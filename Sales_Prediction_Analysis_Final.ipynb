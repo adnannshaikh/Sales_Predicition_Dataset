{
  "cells": [
    {
      "cell_type": "markdown",
      "id": "820a834b",
      "metadata": {
        "id": "820a834b"
      },
      "source": [
        "# Sales Prediction Dataset\n",
        "This notebook answers 7 key business questions using linear regression and correlation analysis."
      ]
    },
    {
      "cell_type": "markdown",
      "id": "e7c6cb3d",
      "metadata": {
        "id": "e7c6cb3d"
      },
      "source": [
        "## Q1: What is the average amount spent on TV advertising in the dataset?"
      ]
    },
    {
      "cell_type": "code",
      "execution_count": 1,
      "id": "848d1e4b",
      "metadata": {
        "colab": {
          "base_uri": "https://localhost:8080/"
        },
        "id": "848d1e4b",
        "outputId": "4e9cb982-404d-4a84-ec1a-059ddd9ee14b"
      },
      "outputs": [
        {
          "output_type": "execute_result",
          "data": {
            "text/plain": [
              "np.float64(146.78585858585862)"
            ]
          },
          "metadata": {},
          "execution_count": 1
        }
      ],
      "source": [
        "\n",
        "import pandas as pd\n",
        "\n",
        "# Load dataset\n",
        "df = pd.read_excel(\"advertising_sales_data.xlsx\")\n",
        "\n",
        "# Drop missing values for consistency\n",
        "df = df.dropna()\n",
        "\n",
        "# Average TV spend\n",
        "df['TV'].mean()\n"
      ]
    },
    {
      "cell_type": "markdown",
      "id": "c7168d87",
      "metadata": {
        "id": "c7168d87"
      },
      "source": [
        "**Explanation:**\n",
        "- Calculates the mean of the `TV` column to understand the average TV advertising expenditure."
      ]
    },
    {
      "cell_type": "markdown",
      "id": "9d9b5378",
      "metadata": {
        "id": "9d9b5378"
      },
      "source": [
        "## Q2: What is the correlation between radio advertising expenditure and product sales?"
      ]
    },
    {
      "cell_type": "code",
      "execution_count": 2,
      "id": "95b18e64",
      "metadata": {
        "colab": {
          "base_uri": "https://localhost:8080/"
        },
        "id": "95b18e64",
        "outputId": "055a8639-3597-424d-e03b-268d261d8af3"
      },
      "outputs": [
        {
          "output_type": "execute_result",
          "data": {
            "text/plain": [
              "np.float64(0.3497277129207837)"
            ]
          },
          "metadata": {},
          "execution_count": 2
        }
      ],
      "source": [
        "\n",
        "correlation = df['Radio'].corr(df['Sales'])\n",
        "correlation\n"
      ]
    },
    {
      "cell_type": "markdown",
      "id": "702c9495",
      "metadata": {
        "id": "702c9495"
      },
      "source": [
        "**Explanation:**\n",
        "- Computes Pearson correlation between `Radio` and `Sales`.\n",
        "- Positive value indicates direct relationship."
      ]
    },
    {
      "cell_type": "markdown",
      "id": "8a7a2144",
      "metadata": {
        "id": "8a7a2144"
      },
      "source": [
        "## Q3: Which advertising medium has the highest impact on sales based on the dataset?"
      ]
    },
    {
      "cell_type": "code",
      "execution_count": 3,
      "id": "a74ac0c3",
      "metadata": {
        "colab": {
          "base_uri": "https://localhost:8080/",
          "height": 178
        },
        "id": "a74ac0c3",
        "outputId": "bcab76c5-065d-4622-d051-472947ce32ab"
      },
      "outputs": [
        {
          "output_type": "execute_result",
          "data": {
            "text/plain": [
              "TV           0.901372\n",
              "Radio        0.349728\n",
              "Newspaper    0.159125\n",
              "dtype: float64"
            ],
            "text/html": [
              "<div>\n",
              "<style scoped>\n",
              "    .dataframe tbody tr th:only-of-type {\n",
              "        vertical-align: middle;\n",
              "    }\n",
              "\n",
              "    .dataframe tbody tr th {\n",
              "        vertical-align: top;\n",
              "    }\n",
              "\n",
              "    .dataframe thead th {\n",
              "        text-align: right;\n",
              "    }\n",
              "</style>\n",
              "<table border=\"1\" class=\"dataframe\">\n",
              "  <thead>\n",
              "    <tr style=\"text-align: right;\">\n",
              "      <th></th>\n",
              "      <th>0</th>\n",
              "    </tr>\n",
              "  </thead>\n",
              "  <tbody>\n",
              "    <tr>\n",
              "      <th>TV</th>\n",
              "      <td>0.901372</td>\n",
              "    </tr>\n",
              "    <tr>\n",
              "      <th>Radio</th>\n",
              "      <td>0.349728</td>\n",
              "    </tr>\n",
              "    <tr>\n",
              "      <th>Newspaper</th>\n",
              "      <td>0.159125</td>\n",
              "    </tr>\n",
              "  </tbody>\n",
              "</table>\n",
              "</div><br><label><b>dtype:</b> float64</label>"
            ]
          },
          "metadata": {},
          "execution_count": 3
        }
      ],
      "source": [
        "\n",
        "df[['TV', 'Radio', 'Newspaper']].corrwith(df['Sales']).sort_values(ascending=False)\n"
      ]
    },
    {
      "cell_type": "markdown",
      "id": "777472d5",
      "metadata": {
        "id": "777472d5"
      },
      "source": [
        "**Explanation:**\n",
        "- Calculates correlation of each medium with `Sales`.\n",
        "- Highest correlation indicates most impactful medium."
      ]
    },
    {
      "cell_type": "markdown",
      "id": "1552c9fd",
      "metadata": {
        "id": "1552c9fd"
      },
      "source": [
        "## Q4: Plot a linear regression line with all variables and visualize predictions vs actual sales."
      ]
    },
    {
      "cell_type": "code",
      "execution_count": 4,
      "id": "a7684367",
      "metadata": {
        "colab": {
          "base_uri": "https://localhost:8080/",
          "height": 507
        },
        "id": "a7684367",
        "outputId": "cd8d2dc0-96c3-472e-abef-c6c1dc779cde"
      },
      "outputs": [
        {
          "output_type": "display_data",
          "data": {
            "text/plain": [
              "<Figure size 800x500 with 1 Axes>"
            ],
            "image/png": "[encoded data removed]"
          },
          "metadata": {}
        }
      ],
      "source": [
        "\n",
        "from sklearn.linear_model import LinearRegression\n",
        "import matplotlib.pyplot as plt\n",
        "\n",
        "X = df[['TV', 'Radio', 'Newspaper']]\n",
        "y = df['Sales']\n",
        "\n",
        "model = LinearRegression()\n",
        "model.fit(X, y)\n",
        "y_pred = model.predict(X)\n",
        "\n",
        "plt.figure(figsize=(8,5))\n",
        "plt.scatter(y, y_pred, alpha=0.7)\n",
        "plt.xlabel(\"Actual Sales\")\n",
        "plt.ylabel(\"Predicted Sales\")\n",
        "plt.title(\"Actual vs Predicted Sales\")\n",
        "plt.plot([y.min(), y.max()], [y.min(), y.max()], color='red')  # ideal line\n",
        "plt.tight_layout()\n",
        "plt.show()\n"
      ]
    },
    {
      "cell_type": "markdown",
      "id": "8691b6b6",
      "metadata": {
        "id": "8691b6b6"
      },
      "source": [
        "**Explanation:**\n",
        "- Trains a linear regression model using all features.\n",
        "- Scatter plot compares predicted vs actual sales.\n",
        "- Red line shows ideal predictions."
      ]
    },
    {
      "cell_type": "markdown",
      "id": "ce0e0bd7",
      "metadata": {
        "id": "ce0e0bd7"
      },
      "source": [
        "## Q5: How would sales be predicted for a new set of advertising expenditures: \\$200 on TV,  \\$40 on Radio, and \\$50 on Newspaper?"
      ]
    },
    {
      "cell_type": "code",
      "execution_count": 8,
      "id": "ae38d171",
      "metadata": {
        "colab": {
          "base_uri": "https://localhost:8080/"
        },
        "id": "ae38d171",
        "outputId": "ff0d13e0-9e5a-4cc8-cbbd-0d07a6c0520e"
      },
      "outputs": [
        {
          "output_type": "execute_result",
          "data": {
            "text/plain": [
              "np.float64(19.819378160410906)"
            ]
          },
          "metadata": {},
          "execution_count": 8
        }
      ],
      "source": [
        "import numpy as np\n",
        "import pandas as pd\n",
        "\n",
        "new_data = pd.DataFrame([[200, 40, 50]], columns=['TV', 'Radio', 'Newspaper'])\n",
        "prediction = model.predict(new_data)\n",
        "prediction[0]\n",
        "\n"
      ]
    },
    {
      "cell_type": "markdown",
      "id": "94d1c556",
      "metadata": {
        "id": "94d1c556"
      },
      "source": [
        "**Explanation:**\n",
        "- Uses the trained model to predict sales for a new set of ad expenditures."
      ]
    },
    {
      "cell_type": "markdown",
      "id": "1af7e8a3",
      "metadata": {
        "id": "1af7e8a3"
      },
      "source": [
        "## Q6: How does the performance of the linear regression model change when the dataset is normalized?"
      ]
    },
    {
      "cell_type": "code",
      "execution_count": 6,
      "id": "1cb1e847",
      "metadata": {
        "colab": {
          "base_uri": "https://localhost:8080/"
        },
        "id": "1cb1e847",
        "outputId": "21cbd0be-3bf6-405d-a734-71125ce3708f"
      },
      "outputs": [
        {
          "output_type": "execute_result",
          "data": {
            "text/plain": [
              "(0.9029164691118196, 0.9029164691118196)"
            ]
          },
          "metadata": {},
          "execution_count": 6
        }
      ],
      "source": [
        "\n",
        "from sklearn.preprocessing import StandardScaler\n",
        "from sklearn.metrics import r2_score\n",
        "\n",
        "scaler = StandardScaler()\n",
        "X_scaled = scaler.fit_transform(X)\n",
        "\n",
        "model_scaled = LinearRegression()\n",
        "model_scaled.fit(X_scaled, y)\n",
        "y_pred_scaled = model_scaled.predict(X_scaled)\n",
        "\n",
        "r2_score(y, y_pred), r2_score(y, y_pred_scaled)\n"
      ]
    },
    {
      "cell_type": "markdown",
      "id": "e50382c4",
      "metadata": {
        "id": "e50382c4"
      },
      "source": [
        "**Explanation:**\n",
        "- Compares R² score of original and normalized models.\n",
        "- Normalization helps if features are on different scales."
      ]
    },
    {
      "cell_type": "markdown",
      "id": "d9b0ef71",
      "metadata": {
        "id": "d9b0ef71"
      },
      "source": [
        "## Q7: What is the impact on the sales prediction when only Radio and Newspaper are used as predictors?"
      ]
    },
    {
      "cell_type": "code",
      "execution_count": 7,
      "id": "5cc19745",
      "metadata": {
        "colab": {
          "base_uri": "https://localhost:8080/"
        },
        "id": "5cc19745",
        "outputId": "21718d07-f247-469d-ff9b-3c92f768aed6"
      },
      "outputs": [
        {
          "output_type": "execute_result",
          "data": {
            "text/plain": [
              "0.12370915572237262"
            ]
          },
          "metadata": {},
          "execution_count": 7
        }
      ],
      "source": [
        "\n",
        "X_rn = df[['Radio', 'Newspaper']]\n",
        "model_rn = LinearRegression()\n",
        "model_rn.fit(X_rn, y)\n",
        "r2_score(y, model_rn.predict(X_rn))\n"
      ]
    },
    {
      "cell_type": "markdown",
      "id": "09b209ce",
      "metadata": {
        "id": "09b209ce"
      },
      "source": [
        "**Explanation:**\n",
        "- Trains a model using only `Radio` and `Newspaper`.\n",
        "- Lower R² score compared to using all features shows reduced model performance."
      ]
    }
  ],
  "metadata": {
    "colab": {
      "provenance": []
    },
    "language_info": {
      "name": "python"
    },
    "kernelspec": {
      "name": "python3",
      "display_name": "Python 3"
    }
  },
  "nbformat": 4,
  "nbformat_minor": 5
}